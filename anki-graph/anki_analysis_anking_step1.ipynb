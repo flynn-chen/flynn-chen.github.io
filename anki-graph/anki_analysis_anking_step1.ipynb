{
 "cells": [
  {
   "cell_type": "code",
   "execution_count": 31,
   "id": "spectacular-collar",
   "metadata": {},
   "outputs": [],
   "source": [
    "from ankipandas import Collection\n",
    "import pandas as pd\n",
    "import re\n",
    "import simplejson\n",
    "import copy\n",
    "from networkx.readwrite import json_graph\n",
    "import json"
   ]
  },
  {
   "cell_type": "code",
   "execution_count": 52,
   "id": "recognized-methodology",
   "metadata": {},
   "outputs": [],
   "source": [
    "col = Collection(\"/Users/zhanlinchen/Library/Application Support/Anki2\")"
   ]
  },
  {
   "cell_type": "code",
   "execution_count": 53,
   "id": "chinese-horror",
   "metadata": {},
   "outputs": [],
   "source": [
    "nonsuspended = col.cards[(col.cards['cqueue'] != 'suspended') & (col.cards['cdeck'].str.contains(\"AnKing\u001fStep 1\u001fZanki\"))]"
   ]
  },
  {
   "cell_type": "code",
   "execution_count": 54,
   "id": "vulnerable-england",
   "metadata": {},
   "outputs": [],
   "source": [
    "notes = nonsuspended.merge_notes().reset_index()"
   ]
  },
  {
   "cell_type": "code",
   "execution_count": 55,
   "id": "accredited-sheet",
   "metadata": {},
   "outputs": [],
   "source": [
    "revs = col.revs.reset_index()"
   ]
  },
  {
   "cell_type": "code",
   "execution_count": 56,
   "id": "attractive-apparel",
   "metadata": {},
   "outputs": [],
   "source": [
    "notes = notes.merge(revs, how='left', left_on=\"cid\", right_on=\"cid\")"
   ]
  },
  {
   "cell_type": "code",
   "execution_count": 57,
   "id": "3f220903",
   "metadata": {},
   "outputs": [],
   "source": [
    "notes = notes[notes[\"ntags\"].astype(str).str.contains(\"HighYield\")] # only select high yield ones\n",
    "notes = notes[notes[\"ntags\"].astype(str).str.contains(\"B&B\")] # only select high yield ones\n",
    "notes = notes[notes[\"ntags\"].astype(str).str.contains(\"FirstAid\")] # only select high yield ones"
   ]
  },
  {
   "cell_type": "code",
   "execution_count": 58,
   "id": "29eaf171",
   "metadata": {},
   "outputs": [],
   "source": [
    "notes = notes[notes[\"nflds\"].astype(str).str.contains(\"mp3\") == False]"
   ]
  },
  {
   "cell_type": "code",
   "execution_count": 59,
   "id": "50a1ec4e",
   "metadata": {},
   "outputs": [],
   "source": [
    "def get_tags(line):\n",
    "    new_tags = []\n",
    "    for i in line[\"ntags\"]:\n",
    "        if (\"FirstAid\" in i):\n",
    "            new_tags.extend(i.split(\"::\"))\n",
    "    new_tags = sorted(list(set(new_tags)))[2:]\n",
    "    #new_tags.remove(\"#FirstAid\").remove(\"#AK_Step1_v11\")\n",
    "    return new_tags\n",
    "\n",
    "notes[\"ntags\"] = notes.apply(get_tags, axis=1)"
   ]
  },
  {
   "cell_type": "code",
   "execution_count": 60,
   "id": "98e8b98a",
   "metadata": {},
   "outputs": [],
   "source": [
    "notes = notes.reset_index()"
   ]
  },
  {
   "cell_type": "code",
   "execution_count": 61,
   "id": "48670327",
   "metadata": {},
   "outputs": [
    {
     "data": {
      "text/plain": [
       "['03_Levothyroxine_Liothyronine', '05_Pharm', '08_Endocrine', 'Levothyroxine']"
      ]
     },
     "execution_count": 61,
     "metadata": {},
     "output_type": "execute_result"
    }
   ],
   "source": [
    "notes[\"ntags\"].iloc[0]"
   ]
  },
  {
   "cell_type": "code",
   "execution_count": 62,
   "id": "impaired-consent",
   "metadata": {},
   "outputs": [],
   "source": [
    "import networkx as nx"
   ]
  },
  {
   "cell_type": "code",
   "execution_count": 63,
   "id": "helpful-magnet",
   "metadata": {},
   "outputs": [
    {
     "name": "stdout",
     "output_type": "stream",
     "text": [
      "0 0\n",
      "2000 806315\n",
      "4000 2215822\n",
      "6000 4336522\n",
      "8000 6677153\n",
      "10000 9797818\n",
      "12000 11704973\n"
     ]
    }
   ],
   "source": [
    "G = nx.Graph()\n",
    "s = set()\n",
    "for index, row in notes.iterrows():\n",
    "    if index % 2000 == 0:\n",
    "        print(index, G.number_of_edges())\n",
    "    new_node = row['nid']\n",
    "    new_attributes = row['ntags']\n",
    "    if new_node not in s:\n",
    "        s.add(new_node)\n",
    "        G.add_node(new_node, my_attributes=new_attributes)\n",
    "        for node, attrs in G.nodes(data=True):\n",
    "            if node != new_node:\n",
    "                added = False\n",
    "                for attr in attrs['my_attributes']:\n",
    "                    if attr in new_attributes:\n",
    "                        if added == False:\n",
    "                            G.add_edge(node, new_node)\n",
    "                            added = True\n",
    "                        else:\n",
    "                            break\n",
    "                    "
   ]
  },
  {
   "cell_type": "code",
   "execution_count": 64,
   "id": "infectious-inventory",
   "metadata": {},
   "outputs": [
    {
     "data": {
      "text/plain": [
       "10071"
      ]
     },
     "execution_count": 64,
     "metadata": {},
     "output_type": "execute_result"
    }
   ],
   "source": [
    "G.number_of_nodes()"
   ]
  },
  {
   "cell_type": "code",
   "execution_count": 65,
   "id": "controlled-capital",
   "metadata": {},
   "outputs": [
    {
     "data": {
      "text/plain": [
       "13875487"
      ]
     },
     "execution_count": 65,
     "metadata": {},
     "output_type": "execute_result"
    }
   ],
   "source": [
    "G.number_of_edges()"
   ]
  },
  {
   "cell_type": "code",
   "execution_count": 66,
   "id": "raised-geometry",
   "metadata": {},
   "outputs": [
    {
     "data": {
      "text/plain": [
       "[10071]"
      ]
     },
     "execution_count": 66,
     "metadata": {},
     "output_type": "execute_result"
    }
   ],
   "source": [
    "sorted([len(x) for x in nx.connected_components(G)], reverse=True)[:10]"
   ]
  },
  {
   "cell_type": "code",
   "execution_count": 67,
   "id": "jewish-house",
   "metadata": {},
   "outputs": [],
   "source": [
    "tree = nx.algorithms.tree.mst.minimum_spanning_tree(G)"
   ]
  },
  {
   "cell_type": "code",
   "execution_count": 68,
   "id": "baking-confirmation",
   "metadata": {},
   "outputs": [],
   "source": [
    "G = tree"
   ]
  },
  {
   "cell_type": "code",
   "execution_count": 69,
   "id": "demographic-review",
   "metadata": {},
   "outputs": [],
   "source": [
    "for component in list(nx.connected_components(G)):\n",
    "    if len(component)<5:\n",
    "        for node in component:\n",
    "            G.remove_node(node)"
   ]
  },
  {
   "cell_type": "code",
   "execution_count": 70,
   "id": "statewide-bowling",
   "metadata": {},
   "outputs": [
    {
     "data": {
      "text/plain": [
       "10071"
      ]
     },
     "execution_count": 70,
     "metadata": {},
     "output_type": "execute_result"
    }
   ],
   "source": [
    "G.number_of_nodes()"
   ]
  },
  {
   "cell_type": "code",
   "execution_count": 71,
   "id": "ignored-recruitment",
   "metadata": {},
   "outputs": [
    {
     "data": {
      "text/plain": [
       "10070"
      ]
     },
     "execution_count": 71,
     "metadata": {},
     "output_type": "execute_result"
    }
   ],
   "source": [
    "G.number_of_edges()"
   ]
  },
  {
   "cell_type": "code",
   "execution_count": 72,
   "id": "earned-correction",
   "metadata": {},
   "outputs": [],
   "source": [
    "j = json_graph.node_link_data(G)"
   ]
  },
  {
   "cell_type": "code",
   "execution_count": 73,
   "id": "occupied-northeast",
   "metadata": {},
   "outputs": [],
   "source": [
    "jnew = copy.deepcopy(j)"
   ]
  },
  {
   "cell_type": "code",
   "execution_count": 74,
   "id": "quiet-princess",
   "metadata": {},
   "outputs": [],
   "source": [
    "for idx,n in enumerate(jnew['nodes']):\n",
    "    note_orig = notes[notes[\"nid\"] == n['id']]\n",
    "    time = note_orig.iloc[0]['rid']\n",
    "    note = note_orig.iloc[0]['nflds'][0].replace('\\'', '')\n",
    "    jnew['nodes'][idx].pop('my_attributes', None)\n",
    "    jnew['nodes'][idx]['note'] = note\n",
    "    jnew['nodes'][idx]['time'] = time"
   ]
  },
  {
   "cell_type": "code",
   "execution_count": 75,
   "id": "divided-yellow",
   "metadata": {},
   "outputs": [],
   "source": [
    "with open('out_clean.json', 'w') as outfile:\n",
    "    d = simplejson.dumps(jnew, ignore_nan=True)\n",
    "    outfile.write(d)"
   ]
  },
  {
   "cell_type": "code",
   "execution_count": null,
   "id": "plastic-cleveland",
   "metadata": {},
   "outputs": [],
   "source": []
  }
 ],
 "metadata": {
  "kernelspec": {
   "display_name": "Python 3 (ipykernel)",
   "language": "python",
   "name": "python3"
  },
  "language_info": {
   "codemirror_mode": {
    "name": "ipython",
    "version": 3
   },
   "file_extension": ".py",
   "mimetype": "text/x-python",
   "name": "python",
   "nbconvert_exporter": "python",
   "pygments_lexer": "ipython3",
   "version": "3.9.7"
  },
  "varInspector": {
   "cols": {
    "lenName": 16,
    "lenType": 16,
    "lenVar": 40
   },
   "kernels_config": {
    "python": {
     "delete_cmd_postfix": "",
     "delete_cmd_prefix": "del ",
     "library": "var_list.py",
     "varRefreshCmd": "print(var_dic_list())"
    },
    "r": {
     "delete_cmd_postfix": ") ",
     "delete_cmd_prefix": "rm(",
     "library": "var_list.r",
     "varRefreshCmd": "cat(var_dic_list()) "
    }
   },
   "types_to_exclude": [
    "module",
    "function",
    "builtin_function_or_method",
    "instance",
    "_Feature"
   ],
   "window_display": false
  }
 },
 "nbformat": 4,
 "nbformat_minor": 5
}
