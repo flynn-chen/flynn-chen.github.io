{
 "cells": [
  {
   "cell_type": "code",
   "execution_count": 1,
   "id": "spectacular-collar",
   "metadata": {},
   "outputs": [],
   "source": [
    "from ankipandas import Collection\n",
    "import pandas as pd\n",
    "import re\n",
    "import simplejson\n",
    "import copy\n",
    "from networkx.readwrite import json_graph\n",
    "import json"
   ]
  },
  {
   "cell_type": "code",
   "execution_count": 2,
   "id": "recognized-methodology",
   "metadata": {},
   "outputs": [
    {
     "name": "stderr",
     "output_type": "stream",
     "text": [
      "\u001b[32mINFO: Database found at '/Users/zhanlinchen/Library/Application Support/Anki2/User 1/collection.anki2'.\u001b[0m\n"
     ]
    }
   ],
   "source": [
    "col = Collection(\"/Users/zhanlinchen/Library/Application Support/Anki2\")"
   ]
  },
  {
   "cell_type": "code",
   "execution_count": 3,
   "id": "chinese-horror",
   "metadata": {},
   "outputs": [],
   "source": [
    "nonsuspended = col.cards[(col.cards['cqueue'] != 'suspended') & (col.cards['cdeck'].str.contains(\"AnKing\u001fStep 1\u001fZanki\"))]"
   ]
  },
  {
   "cell_type": "code",
   "execution_count": 4,
   "id": "vulnerable-england",
   "metadata": {},
   "outputs": [],
   "source": [
    "notes = nonsuspended.merge_notes().reset_index()"
   ]
  },
  {
   "cell_type": "code",
   "execution_count": 5,
   "id": "accredited-sheet",
   "metadata": {},
   "outputs": [],
   "source": [
    "revs = col.revs.reset_index()"
   ]
  },
  {
   "cell_type": "code",
   "execution_count": 6,
   "id": "attractive-apparel",
   "metadata": {},
   "outputs": [],
   "source": [
    "notes = notes.merge(revs, how='left', left_on=\"cid\", right_on=\"cid\")"
   ]
  },
  {
   "cell_type": "code",
   "execution_count": 7,
   "id": "3f220903",
   "metadata": {},
   "outputs": [],
   "source": [
    "notes = notes[notes[\"ntags\"].astype(str).str.contains(\"HighYield\")] # only select high yield ones\n",
    "notes = notes[notes[\"ntags\"].astype(str).str.contains(\"B&B\")] # only select high yield ones\n",
    "notes = notes[notes[\"ntags\"].astype(str).str.contains(\"FirstAid\")] # only select high yield ones\n",
    "notes = notes[notes[\"ntags\"].astype(str).str.contains(\"Zanki\")] # only select high yield ones"
   ]
  },
  {
   "cell_type": "code",
   "execution_count": 8,
   "id": "29eaf171",
   "metadata": {},
   "outputs": [],
   "source": [
    "notes = notes[notes[\"nflds\"].astype(str).str.contains(\"mp3\") == False]"
   ]
  },
  {
   "cell_type": "code",
   "execution_count": 9,
   "id": "50a1ec4e",
   "metadata": {},
   "outputs": [],
   "source": [
    "def get_tags(line):\n",
    "    new_tags = []\n",
    "    for i in line[\"ntags\"]:\n",
    "        if (\"FirstAid\" in i):\n",
    "            new_tags.extend(i.split(\"::\"))\n",
    "    new_tags = sorted(list(set(new_tags)))[2:]\n",
    "    #new_tags.remove(\"#FirstAid\").remove(\"#AK_Step1_v11\")\n",
    "    return new_tags\n",
    "\n",
    "notes[\"ntags\"] = notes.apply(get_tags, axis=1)"
   ]
  },
  {
   "cell_type": "code",
   "execution_count": 10,
   "id": "98e8b98a",
   "metadata": {},
   "outputs": [],
   "source": [
    "notes = notes.reset_index()"
   ]
  },
  {
   "cell_type": "code",
   "execution_count": 11,
   "id": "impaired-consent",
   "metadata": {},
   "outputs": [],
   "source": [
    "import networkx as nx"
   ]
  },
  {
   "cell_type": "code",
   "execution_count": 12,
   "id": "helpful-magnet",
   "metadata": {},
   "outputs": [
    {
     "name": "stdout",
     "output_type": "stream",
     "text": [
      "0 0\n",
      "2000 806315\n",
      "4000 2215822\n",
      "6000 4336522\n",
      "8000 6677153\n",
      "10000 9797818\n",
      "12000 11704973\n"
     ]
    }
   ],
   "source": [
    "G = nx.Graph()\n",
    "s = set()\n",
    "for index, row in notes.iterrows():\n",
    "    if index % 2000 == 0:\n",
    "        print(index, G.number_of_edges())\n",
    "    new_node = row['nid']\n",
    "    new_attributes = row['ntags']\n",
    "    if new_node not in s:\n",
    "        s.add(new_node)\n",
    "        G.add_node(new_node, my_attributes=new_attributes)\n",
    "        for node, attrs in G.nodes(data=True):\n",
    "            if node != new_node:\n",
    "                added = False\n",
    "                for attr in attrs['my_attributes']:\n",
    "                    if attr in new_attributes:\n",
    "                        if added == False:\n",
    "                            G.add_edge(node, new_node)\n",
    "                            added = True\n",
    "                        else:\n",
    "                            break\n",
    "                    "
   ]
  },
  {
   "cell_type": "code",
   "execution_count": 13,
   "id": "infectious-inventory",
   "metadata": {},
   "outputs": [
    {
     "data": {
      "text/plain": [
       "10071"
      ]
     },
     "execution_count": 13,
     "metadata": {},
     "output_type": "execute_result"
    }
   ],
   "source": [
    "G.number_of_nodes()"
   ]
  },
  {
   "cell_type": "code",
   "execution_count": 14,
   "id": "controlled-capital",
   "metadata": {},
   "outputs": [
    {
     "data": {
      "text/plain": [
       "13875487"
      ]
     },
     "execution_count": 14,
     "metadata": {},
     "output_type": "execute_result"
    }
   ],
   "source": [
    "G.number_of_edges()"
   ]
  },
  {
   "cell_type": "code",
   "execution_count": 15,
   "id": "raised-geometry",
   "metadata": {},
   "outputs": [
    {
     "data": {
      "text/plain": [
       "[10071]"
      ]
     },
     "execution_count": 15,
     "metadata": {},
     "output_type": "execute_result"
    }
   ],
   "source": [
    "sorted([len(x) for x in nx.connected_components(G)], reverse=True)[:10]"
   ]
  },
  {
   "cell_type": "code",
   "execution_count": 16,
   "id": "jewish-house",
   "metadata": {},
   "outputs": [],
   "source": [
    "tree = nx.algorithms.tree.mst.minimum_spanning_tree(G)"
   ]
  },
  {
   "cell_type": "code",
   "execution_count": 17,
   "id": "baking-confirmation",
   "metadata": {},
   "outputs": [],
   "source": [
    "G = tree"
   ]
  },
  {
   "cell_type": "code",
   "execution_count": 18,
   "id": "demographic-review",
   "metadata": {},
   "outputs": [],
   "source": [
    "for component in list(nx.connected_components(G)):\n",
    "    if len(component)<5:\n",
    "        for node in component:\n",
    "            G.remove_node(node)"
   ]
  },
  {
   "cell_type": "code",
   "execution_count": 19,
   "id": "statewide-bowling",
   "metadata": {},
   "outputs": [
    {
     "data": {
      "text/plain": [
       "10071"
      ]
     },
     "execution_count": 19,
     "metadata": {},
     "output_type": "execute_result"
    }
   ],
   "source": [
    "G.number_of_nodes()"
   ]
  },
  {
   "cell_type": "code",
   "execution_count": 20,
   "id": "ignored-recruitment",
   "metadata": {},
   "outputs": [
    {
     "data": {
      "text/plain": [
       "10070"
      ]
     },
     "execution_count": 20,
     "metadata": {},
     "output_type": "execute_result"
    }
   ],
   "source": [
    "G.number_of_edges()"
   ]
  },
  {
   "cell_type": "code",
   "execution_count": 21,
   "id": "earned-correction",
   "metadata": {},
   "outputs": [],
   "source": [
    "j = json_graph.node_link_data(G)"
   ]
  },
  {
   "cell_type": "code",
   "execution_count": 22,
   "id": "occupied-northeast",
   "metadata": {},
   "outputs": [],
   "source": [
    "jnew = copy.deepcopy(j)"
   ]
  },
  {
   "cell_type": "code",
   "execution_count": 25,
   "id": "9a6f7fff",
   "metadata": {},
   "outputs": [
    {
     "data": {
      "text/plain": [
       "array(['AnKing\\x1fStep 1\\x1fZanki Pharmacology',\n",
       "       \"AnKing\\x1fStep 1\\x1fZanki Step Decks\\x1fZanki Reproductive\\x1fThe Embryology That Shouldn't Exist\",\n",
       "       'AnKing\\x1fStep 1\\x1fZanki Step Decks\\x1fZanki Reproductive\\x1fReproductive Physiology + Anatomy/Embryo',\n",
       "       'AnKing\\x1fStep 1\\x1fZanki Step Decks\\x1fZanki Endocrine\\x1fEndocrine Physiology',\n",
       "       'AnKing\\x1fStep 1\\x1fZanki Step Decks\\x1fZanki Endocrine\\x1fEndocrine Pathology',\n",
       "       'AnKing\\x1fStep 1\\x1fZanki Step Decks\\x1fZanki Reproductive\\x1fReproductive Pathology',\n",
       "       'AnKing\\x1fStep 1\\x1fZanki Step Decks\\x1fZanki GI\\x1fGI Pathology',\n",
       "       'AnKing\\x1fStep 1\\x1fZanki Step Decks\\x1fZanki Biochemistry\\x1fMolecular, Cellular, Genetics',\n",
       "       'AnKing\\x1fStep 1\\x1fZanki Step Decks\\x1fZanki Immunology + General Pathology\\x1fImmunology',\n",
       "       'AnKing\\x1fStep 1\\x1fZanki Step Decks\\x1fZanki Cardiovascular\\x1fCardio Physiology + Embryo, Anatomy',\n",
       "       'AnKing\\x1fStep 1\\x1fZanki Step Decks\\x1fZanki Cardiovascular\\x1fCardio Pathology',\n",
       "       'AnKing\\x1fStep 1\\x1fZanki Step Decks\\x1fZanki Respiratory\\x1fRespiratory Physiology',\n",
       "       'AnKing\\x1fStep 1\\x1fZanki Step Decks\\x1fZanki Respiratory\\x1fRespiratory Pathology',\n",
       "       'AnKing\\x1fStep 1\\x1fZanki Step Decks\\x1fZanki Hematology & Oncology\\x1fPathoma Hematology',\n",
       "       'AnKing\\x1fStep 1\\x1fZanki Step Decks\\x1fZanki Renal\\x1fRenal Physiology + Embryo, Anatomy',\n",
       "       'AnKing\\x1fStep 1\\x1fZanki Step Decks\\x1fZanki Renal\\x1fRenal Pathology',\n",
       "       'AnKing\\x1fStep 1\\x1fZanki Step Decks\\x1fZanki Biochemistry\\x1fVitamins',\n",
       "       'AnKing\\x1fStep 1\\x1fZanki Step Decks\\x1fZanki GI\\x1fGI Physiology + Embryo, Anatomy',\n",
       "       'AnKing\\x1fStep 1\\x1fZanki Step Decks\\x1fZanki Hematology & Oncology\\x1fPathoma RBC',\n",
       "       'AnKing\\x1fStep 1\\x1fZanki Step Decks\\x1fZanki Hematology & Oncology\\x1fRBC Misc.',\n",
       "       'AnKing\\x1fStep 1\\x1fZanki Step Decks\\x1fZanki Neurology\\x1fKaplan Neuroscience',\n",
       "       'AnKing\\x1fStep 1\\x1fZanki Step Decks\\x1fZanki Hematology & Oncology\\x1fPathoma WBC',\n",
       "       'AnKing\\x1fStep 1\\x1fZanki Step Decks\\x1fZanki Immunology + General Pathology\\x1fPathoma Chapter 1 (Cell Injury, Death)',\n",
       "       'AnKing\\x1fStep 1\\x1fZanki Step Decks\\x1fZanki Musculoskeletal\\x1fMusculoskeletal Pathology',\n",
       "       'AnKing\\x1fStep 1\\x1fZanki Step Decks\\x1fZanki Musculoskeletal',\n",
       "       'AnKing\\x1fStep 1\\x1fZanki Step Decks\\x1fZanki Dermatology',\n",
       "       'AnKing\\x1fStep 1\\x1fZanki Step Decks\\x1fZanki Musculoskeletal\\x1fMusculoskeletal Anatomy/Physio (Nutricionado)'],\n",
       "      dtype=object)"
      ]
     },
     "execution_count": 25,
     "metadata": {},
     "output_type": "execute_result"
    }
   ],
   "source": [
    "notes[\"cdeck\"].unique()"
   ]
  },
  {
   "cell_type": "code",
   "execution_count": 74,
   "id": "quiet-princess",
   "metadata": {},
   "outputs": [],
   "source": [
    "for idx,n in enumerate(jnew['nodes']):\n",
    "    note_orig = notes[notes[\"nid\"] == n['id']]\n",
    "    time = note_orig.iloc[0]['rid']\n",
    "    cdeck = note_orig.iloc[0]['cdeck']\n",
    "    note = note_orig.iloc[0]['nflds'][0].replace('\\'', '')\n",
    "    jnew['nodes'][idx].pop('my_attributes', None)\n",
    "    jnew['nodes'][idx]['note'] = note\n",
    "    jnew['nodes'][idx]['cdeck'] = cdeck"
   ]
  },
  {
   "cell_type": "code",
   "execution_count": 75,
   "id": "divided-yellow",
   "metadata": {},
   "outputs": [],
   "source": [
    "with open('out_clean.json', 'w') as outfile:\n",
    "    d = simplejson.dumps(jnew, ignore_nan=True)\n",
    "    outfile.write(d)"
   ]
  },
  {
   "cell_type": "code",
   "execution_count": null,
   "id": "plastic-cleveland",
   "metadata": {},
   "outputs": [],
   "source": []
  }
 ],
 "metadata": {
  "kernelspec": {
   "display_name": "Python 3 (ipykernel)",
   "language": "python",
   "name": "python3"
  },
  "language_info": {
   "codemirror_mode": {
    "name": "ipython",
    "version": 3
   },
   "file_extension": ".py",
   "mimetype": "text/x-python",
   "name": "python",
   "nbconvert_exporter": "python",
   "pygments_lexer": "ipython3",
   "version": "3.9.7"
  },
  "varInspector": {
   "cols": {
    "lenName": 16,
    "lenType": 16,
    "lenVar": 40
   },
   "kernels_config": {
    "python": {
     "delete_cmd_postfix": "",
     "delete_cmd_prefix": "del ",
     "library": "var_list.py",
     "varRefreshCmd": "print(var_dic_list())"
    },
    "r": {
     "delete_cmd_postfix": ") ",
     "delete_cmd_prefix": "rm(",
     "library": "var_list.r",
     "varRefreshCmd": "cat(var_dic_list()) "
    }
   },
   "types_to_exclude": [
    "module",
    "function",
    "builtin_function_or_method",
    "instance",
    "_Feature"
   ],
   "window_display": false
  }
 },
 "nbformat": 4,
 "nbformat_minor": 5
}
